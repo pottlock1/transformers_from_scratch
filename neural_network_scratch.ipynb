{
 "cells": [
  {
   "cell_type": "code",
   "execution_count": 1,
   "id": "44e86999-52b8-4763-841f-621d861778bb",
   "metadata": {},
   "outputs": [],
   "source": [
    "from pathlib import Path\n",
    "import requests\n",
    "import torch\n",
    "from torch import nn\n",
    "import pickle\n",
    "import gzip\n",
    "from torch.nn import functional as F\n",
    "from torch.utils.data import Dataset, DataLoader\n",
    "import torch.optim as optim"
   ]
  },
  {
   "cell_type": "code",
   "execution_count": 2,
   "id": "2463b3c8-a778-438d-bf9e-2bf7dc36bf5e",
   "metadata": {},
   "outputs": [],
   "source": [
    "DATA_PATH = Path(\"data\")\n",
    "PATH = DATA_PATH / \"mnist\"\n",
    "\n",
    "PATH.mkdir(parents=True, exist_ok=True)\n",
    "\n",
    "URL = \"https://github.com/pytorch/tutorials/raw/main/_static/\"\n",
    "FILENAME = \"mnist.pkl.gz\"\n",
    "\n",
    "if not (PATH / FILENAME).exists():\n",
    "        content = requests.get(URL + FILENAME).content\n",
    "        (PATH / FILENAME).open(\"wb\").write(content)"
   ]
  },
  {
   "cell_type": "code",
   "execution_count": 3,
   "id": "0e1b4afd-ebc3-4ff9-aba2-62a46f1115f0",
   "metadata": {},
   "outputs": [],
   "source": [
    "with gzip.open((PATH / FILENAME).as_posix(), \"rb\") as f:\n",
    "        ((x_train, y_train), (x_valid, y_valid), _) = pickle.load(f, encoding=\"latin-1\")\n",
    "\n",
    "x_train, y_train, x_valid, y_valid = map(\n",
    "    torch.tensor, (x_train, y_train, x_valid, y_valid)\n",
    ")"
   ]
  },
  {
   "cell_type": "code",
   "execution_count": 4,
   "id": "826a55d1-ab94-4505-a96c-ebed7fd4f360",
   "metadata": {},
   "outputs": [
    {
     "data": {
      "text/plain": [
       "(torch.Size([50000, 784]), torch.Size([50000]))"
      ]
     },
     "execution_count": 4,
     "metadata": {},
     "output_type": "execute_result"
    }
   ],
   "source": [
    "x_train.shape, y_train.shape"
   ]
  },
  {
   "cell_type": "code",
   "execution_count": 5,
   "id": "d261420c-fbc9-4e23-a8bc-feee91d85246",
   "metadata": {},
   "outputs": [
    {
     "data": {
      "text/plain": [
       "(tensor([0, 1, 2, 3, 4, 5, 6, 7, 8, 9]),\n",
       " tensor([4932, 5678, 4968, 5101, 4859, 4506, 4951, 5175, 4842, 4988]))"
      ]
     },
     "execution_count": 5,
     "metadata": {},
     "output_type": "execute_result"
    }
   ],
   "source": [
    "torch.unique(y_train, return_counts = True)"
   ]
  },
  {
   "cell_type": "markdown",
   "id": "e805998a-5537-409e-be6b-82ede811de3b",
   "metadata": {},
   "source": [
    "# Create model"
   ]
  },
  {
   "cell_type": "code",
   "execution_count": 18,
   "id": "e937e341-400d-48cb-9548-5e06699e24c3",
   "metadata": {},
   "outputs": [],
   "source": [
    "class MnistModel(nn.Module):\n",
    "    def __init__(self, n_input):\n",
    "        super().__init__()\n",
    "        self.n_input = n_input\n",
    "        self.linear = nn.Linear(n_input, 10)\n",
    "        \n",
    "    def forward(self, x):\n",
    "        y_pred = self.linear(x)\n",
    "        return y_pred"
   ]
  },
  {
   "cell_type": "code",
   "execution_count": 19,
   "id": "7c33ac4d-df47-41f4-ba68-5d3308b90965",
   "metadata": {},
   "outputs": [],
   "source": [
    "model = MnistModel(x_train.shape[1])"
   ]
  },
  {
   "cell_type": "code",
   "execution_count": 20,
   "id": "6158291d-64f0-45b7-8b21-b96f57ca0b82",
   "metadata": {},
   "outputs": [],
   "source": [
    "loss_func = nn.CrossEntropyLoss()"
   ]
  },
  {
   "cell_type": "markdown",
   "id": "6f03bd5a-d004-42e3-890b-0e6edf5c5792",
   "metadata": {},
   "source": [
    "# Create data loader"
   ]
  },
  {
   "cell_type": "code",
   "execution_count": 21,
   "id": "f748913d-b17f-4d99-9f14-4f2305ea5ee9",
   "metadata": {},
   "outputs": [],
   "source": [
    "class CustomDataset(Dataset):\n",
    "    def __init__(self, x, y):\n",
    "        super().__init__()\n",
    "        self.x = x\n",
    "        self.y = y\n",
    "    def __len__(self):\n",
    "        return len(self.x)\n",
    "\n",
    "    def __getitem__(self, idx):\n",
    "        return self.x[idx], self.y[idx]"
   ]
  },
  {
   "cell_type": "code",
   "execution_count": 22,
   "id": "036b4ba1-4f35-4131-97b5-1e8f811294d3",
   "metadata": {},
   "outputs": [],
   "source": [
    "train_ds = CustomDataset(x_train, y_train)\n",
    "val_ds = CustomDataset(x_valid, y_valid)"
   ]
  },
  {
   "cell_type": "code",
   "execution_count": 23,
   "id": "cffc6f35-0a02-496d-bf46-0c65c5fa9a27",
   "metadata": {},
   "outputs": [],
   "source": [
    "batch_size = 64\n",
    "train_dl = DataLoader(train_ds, batch_size = batch_size, shuffle = True)\n",
    "val_dl = DataLoader(val_ds, batch_size = batch_size, shuffle = False)"
   ]
  },
  {
   "cell_type": "code",
   "execution_count": 24,
   "id": "cdc567b1-fea0-4eb1-83d0-13bfa3f89577",
   "metadata": {},
   "outputs": [
    {
     "data": {
      "text/plain": [
       "782"
      ]
     },
     "execution_count": 24,
     "metadata": {},
     "output_type": "execute_result"
    }
   ],
   "source": [
    "len(train_dl)"
   ]
  },
  {
   "cell_type": "markdown",
   "id": "ad669616-8bea-4fca-9506-4e92a63fce55",
   "metadata": {},
   "source": [
    "# Training the model"
   ]
  },
  {
   "cell_type": "code",
   "execution_count": 25,
   "id": "541ad395-7a3e-42f6-aab2-b40d93052968",
   "metadata": {},
   "outputs": [],
   "source": [
    "epochs = 10"
   ]
  },
  {
   "cell_type": "code",
   "execution_count": 26,
   "id": "4c66bc52-025f-4c26-bf85-e4ecfaa36ac2",
   "metadata": {},
   "outputs": [],
   "source": [
    "opt = optim.Adam(model.parameters(), lr = 0.001)"
   ]
  },
  {
   "cell_type": "code",
   "execution_count": 27,
   "id": "889e05fc-fca7-4f07-b348-4994dd388e98",
   "metadata": {},
   "outputs": [
    {
     "name": "stdout",
     "output_type": "stream",
     "text": [
      "Epoch [1/10], Step [0], Loss: 2.2693\n",
      "Epoch [1/10], Step [100], Loss: 0.8869\n",
      "Epoch [1/10], Step [200], Loss: 0.6337\n",
      "Epoch [1/10], Step [300], Loss: 0.4262\n",
      "Epoch [1/10], Step [400], Loss: 0.6604\n",
      "Epoch [1/10], Step [500], Loss: 0.3494\n",
      "Epoch [1/10], Step [600], Loss: 0.4586\n",
      "Epoch [1/10], Step [700], Loss: 0.3766\n",
      "Epoch [2/10], Step [0], Loss: 0.3575\n",
      "Epoch [2/10], Step [100], Loss: 0.4947\n",
      "Epoch [2/10], Step [200], Loss: 0.5417\n",
      "Epoch [2/10], Step [300], Loss: 0.3679\n",
      "Epoch [2/10], Step [400], Loss: 0.2961\n",
      "Epoch [2/10], Step [500], Loss: 0.3609\n",
      "Epoch [2/10], Step [600], Loss: 0.2279\n",
      "Epoch [2/10], Step [700], Loss: 0.2842\n",
      "Epoch [3/10], Step [0], Loss: 0.2507\n",
      "Epoch [3/10], Step [100], Loss: 0.2179\n",
      "Epoch [3/10], Step [200], Loss: 0.3120\n",
      "Epoch [3/10], Step [300], Loss: 0.5109\n",
      "Epoch [3/10], Step [400], Loss: 0.2243\n",
      "Epoch [3/10], Step [500], Loss: 0.2775\n",
      "Epoch [3/10], Step [600], Loss: 0.2882\n",
      "Epoch [3/10], Step [700], Loss: 0.5316\n",
      "Epoch [4/10], Step [0], Loss: 0.2537\n",
      "Epoch [4/10], Step [100], Loss: 0.3179\n",
      "Epoch [4/10], Step [200], Loss: 0.2239\n",
      "Epoch [4/10], Step [300], Loss: 0.4083\n",
      "Epoch [4/10], Step [400], Loss: 0.4029\n",
      "Epoch [4/10], Step [500], Loss: 0.4324\n",
      "Epoch [4/10], Step [600], Loss: 0.3013\n",
      "Epoch [4/10], Step [700], Loss: 0.2991\n",
      "Epoch [5/10], Step [0], Loss: 0.3067\n",
      "Epoch [5/10], Step [100], Loss: 0.3187\n",
      "Epoch [5/10], Step [200], Loss: 0.3476\n",
      "Epoch [5/10], Step [300], Loss: 0.3941\n",
      "Epoch [5/10], Step [400], Loss: 0.3202\n",
      "Epoch [5/10], Step [500], Loss: 0.2801\n",
      "Epoch [5/10], Step [600], Loss: 0.2629\n",
      "Epoch [5/10], Step [700], Loss: 0.1512\n",
      "Epoch [6/10], Step [0], Loss: 0.3206\n",
      "Epoch [6/10], Step [100], Loss: 0.2297\n",
      "Epoch [6/10], Step [200], Loss: 0.1599\n",
      "Epoch [6/10], Step [300], Loss: 0.1980\n",
      "Epoch [6/10], Step [400], Loss: 0.3390\n",
      "Epoch [6/10], Step [500], Loss: 0.1293\n",
      "Epoch [6/10], Step [600], Loss: 0.1674\n",
      "Epoch [6/10], Step [700], Loss: 0.2845\n",
      "Epoch [7/10], Step [0], Loss: 0.2163\n",
      "Epoch [7/10], Step [100], Loss: 0.1014\n",
      "Epoch [7/10], Step [200], Loss: 0.4146\n",
      "Epoch [7/10], Step [300], Loss: 0.1663\n",
      "Epoch [7/10], Step [400], Loss: 0.3975\n",
      "Epoch [7/10], Step [500], Loss: 0.2330\n",
      "Epoch [7/10], Step [600], Loss: 0.2089\n",
      "Epoch [7/10], Step [700], Loss: 0.2266\n",
      "Epoch [8/10], Step [0], Loss: 0.3040\n",
      "Epoch [8/10], Step [100], Loss: 0.1754\n",
      "Epoch [8/10], Step [200], Loss: 0.3428\n",
      "Epoch [8/10], Step [300], Loss: 0.1051\n",
      "Epoch [8/10], Step [400], Loss: 0.3244\n",
      "Epoch [8/10], Step [500], Loss: 0.3070\n",
      "Epoch [8/10], Step [600], Loss: 0.2464\n",
      "Epoch [8/10], Step [700], Loss: 0.6562\n",
      "Epoch [9/10], Step [0], Loss: 0.1408\n",
      "Epoch [9/10], Step [100], Loss: 0.2172\n",
      "Epoch [9/10], Step [200], Loss: 0.1734\n",
      "Epoch [9/10], Step [300], Loss: 0.2769\n",
      "Epoch [9/10], Step [400], Loss: 0.2931\n",
      "Epoch [9/10], Step [500], Loss: 0.1810\n",
      "Epoch [9/10], Step [600], Loss: 0.3019\n",
      "Epoch [9/10], Step [700], Loss: 0.2443\n",
      "Epoch [10/10], Step [0], Loss: 0.5156\n",
      "Epoch [10/10], Step [100], Loss: 0.2953\n",
      "Epoch [10/10], Step [200], Loss: 0.3245\n",
      "Epoch [10/10], Step [300], Loss: 0.1448\n",
      "Epoch [10/10], Step [400], Loss: 0.3293\n",
      "Epoch [10/10], Step [500], Loss: 0.2002\n",
      "Epoch [10/10], Step [600], Loss: 0.2266\n",
      "Epoch [10/10], Step [700], Loss: 0.4102\n"
     ]
    }
   ],
   "source": [
    "for epoch in range(epochs):\n",
    "    model.train()\n",
    "    for batch_idx, batch in enumerate(train_dl):\n",
    "        x_batch, y_batch = batch\n",
    "        y_pred = model(x_batch)\n",
    "        loss = loss_func(y_pred, y_batch)\n",
    "\n",
    "        opt.zero_grad()\n",
    "        loss.backward()\n",
    "        opt.step()\n",
    "        if batch_idx % 100 == 0:\n",
    "            print(f\"Epoch [{epoch+1}/{epochs}], Step [{batch_idx}], Loss: {loss.item():.4f}\")"
   ]
  },
  {
   "cell_type": "code",
   "execution_count": null,
   "id": "6638a217-d442-45bb-9a35-33800f054462",
   "metadata": {},
   "outputs": [],
   "source": []
  },
  {
   "cell_type": "code",
   "execution_count": null,
   "id": "ed9ac0c7-90c3-47fb-b707-ca237a4a1f26",
   "metadata": {},
   "outputs": [],
   "source": []
  },
  {
   "cell_type": "code",
   "execution_count": null,
   "id": "46ab4032-854f-4985-b627-f1c334eee086",
   "metadata": {},
   "outputs": [],
   "source": []
  },
  {
   "cell_type": "code",
   "execution_count": null,
   "id": "fc3126db-9461-4c7c-bd8f-5f0293753f91",
   "metadata": {},
   "outputs": [],
   "source": []
  },
  {
   "cell_type": "code",
   "execution_count": null,
   "id": "0a17c262-69f3-4d57-8e77-deace108aa29",
   "metadata": {},
   "outputs": [],
   "source": []
  },
  {
   "cell_type": "code",
   "execution_count": null,
   "id": "f838df11-3612-4361-a8fc-4177c4c690d3",
   "metadata": {},
   "outputs": [],
   "source": []
  }
 ],
 "metadata": {
  "kernelspec": {
   "display_name": "env_hugging",
   "language": "python",
   "name": "env_hugging"
  },
  "language_info": {
   "codemirror_mode": {
    "name": "ipython",
    "version": 3
   },
   "file_extension": ".py",
   "mimetype": "text/x-python",
   "name": "python",
   "nbconvert_exporter": "python",
   "pygments_lexer": "ipython3",
   "version": "3.10.14"
  }
 },
 "nbformat": 4,
 "nbformat_minor": 5
}
