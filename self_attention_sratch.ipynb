{
 "cells": [
  {
   "cell_type": "code",
   "execution_count": 2,
   "id": "708ebf4a-6e77-41bf-bd53-9e799703160f",
   "metadata": {},
   "outputs": [],
   "source": [
    "import tiktoken\n",
    "import torch\n",
    "from torch import nn\n",
    "import pandas as pd"
   ]
  },
  {
   "cell_type": "markdown",
   "id": "630b8f47-eb14-46f8-a9c7-7d78a3f8e106",
   "metadata": {},
   "source": [
    "# Creating a token dataloader, will be used in the all codes for NLP "
   ]
  },
  {
   "cell_type": "code",
   "execution_count": 3,
   "id": "db325da2-2f4a-43d7-b184-bd37f85fcb0e",
   "metadata": {},
   "outputs": [],
   "source": [
    "splits = {'train': 'train.csv', 'test': 'test.csv'}\n",
    "df = pd.read_csv(\"hf://datasets/Trelis/tiny-shakespeare/\" + splits[\"train\"])"
   ]
  },
  {
   "cell_type": "code",
   "execution_count": 4,
   "id": "ff439336-5ced-49a4-892c-978c92bc41ce",
   "metadata": {},
   "outputs": [
    {
     "data": {
      "text/plain": [
       "(472, 1)"
      ]
     },
     "execution_count": 4,
     "metadata": {},
     "output_type": "execute_result"
    }
   ],
   "source": [
    "df.shape"
   ]
  },
  {
   "cell_type": "code",
   "execution_count": 25,
   "id": "044c8b54-656b-4291-9c70-242a9ecc349c",
   "metadata": {},
   "outputs": [],
   "source": [
    "data = \"\\n\".join([x[0] for x in df.loc[:100].values])"
   ]
  },
  {
   "cell_type": "code",
   "execution_count": 33,
   "id": "a7cb12f6-a1f1-4b38-81b9-fd091a0c93ee",
   "metadata": {},
   "outputs": [
    {
     "data": {
      "text/plain": [
       "50257"
      ]
     },
     "execution_count": 33,
     "metadata": {},
     "output_type": "execute_result"
    }
   ],
   "source": [
    "enc = tiktoken.encoding_for_model(\"gpt-2\")\n",
    "enc.n_vocab"
   ]
  },
  {
   "cell_type": "code",
   "execution_count": 34,
   "id": "0e1f94c9-cadf-4cff-9b59-0f3f7951ca48",
   "metadata": {},
   "outputs": [
    {
     "data": {
      "text/plain": [
       "torch.Size([79355])"
      ]
     },
     "execution_count": 34,
     "metadata": {},
     "output_type": "execute_result"
    }
   ],
   "source": [
    "token_data = torch.tensor(enc.encode(data))\n",
    "token_data.shape"
   ]
  },
  {
   "cell_type": "code",
   "execution_count": null,
   "id": "1cebaed5-83fc-431a-95a3-a8be17c6cfa2",
   "metadata": {},
   "outputs": [],
   "source": [
    "def get_train_batch(batch_size):\n",
    "    "
   ]
  },
  {
   "cell_type": "code",
   "execution_count": null,
   "id": "ad09a21d-d361-4629-a574-3b46540a7991",
   "metadata": {},
   "outputs": [],
   "source": []
  },
  {
   "cell_type": "code",
   "execution_count": null,
   "id": "49d5f0cf-1930-46f9-bee9-e0221c7fc50d",
   "metadata": {},
   "outputs": [],
   "source": []
  },
  {
   "cell_type": "code",
   "execution_count": null,
   "id": "338fd927-4816-49a8-87dd-7f9e47d7ca46",
   "metadata": {},
   "outputs": [],
   "source": []
  },
  {
   "cell_type": "code",
   "execution_count": null,
   "id": "a26ea7f6-6d37-4416-a4e5-2966d29a8ac8",
   "metadata": {},
   "outputs": [],
   "source": []
  }
 ],
 "metadata": {
  "kernelspec": {
   "display_name": "env_hugging",
   "language": "python",
   "name": "env_hugging"
  },
  "language_info": {
   "codemirror_mode": {
    "name": "ipython",
    "version": 3
   },
   "file_extension": ".py",
   "mimetype": "text/x-python",
   "name": "python",
   "nbconvert_exporter": "python",
   "pygments_lexer": "ipython3",
   "version": "3.10.14"
  }
 },
 "nbformat": 4,
 "nbformat_minor": 5
}
